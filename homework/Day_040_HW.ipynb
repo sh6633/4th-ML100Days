{
 "cells": [
  {
   "cell_type": "markdown",
   "metadata": {},
   "source": [
    "## [作業重點]\n",
    "使用 Sklearn 中的 Lasso, Ridge 模型，來訓練各種資料集，務必了解送進去模型訓練的**資料型態**為何，也請了解模型中各項參數的意義。\n",
    "\n",
    "機器學習的模型非常多種，但要訓練的資料多半有固定的格式，確保你了解訓練資料的格式為何，這樣在應用新模型時，就能夠最快的上手開始訓練！"
   ]
  },
  {
   "cell_type": "markdown",
   "metadata": {},
   "source": [
    "## 練習時間\n",
    "試著使用 sklearn datasets 的其他資料集 (boston, ...)，來訓練自己的線性迴歸模型，並加上適當的正則化來觀察訓練情形。"
   ]
  },
  {
   "cell_type": "code",
   "execution_count": 3,
   "metadata": {},
   "outputs": [],
   "source": [
    "import numpy as np\n",
    "import matplotlib.pyplot as plt\n",
    "from sklearn import datasets,linear_model\n",
    "from sklearn.model_selection import train_test_split\n",
    "from sklearn.metrics import mean_squared_error\n"
   ]
  },
  {
   "cell_type": "code",
   "execution_count": 17,
   "metadata": {
    "scrolled": true
   },
   "outputs": [
    {
     "name": "stdout",
     "output_type": "stream",
     "text": [
      "Mean Square Error:25.41990593802265\n",
      "cofficient: [-1.15948981e-01  4.71276533e-02  8.11640297e-03  3.23167956e+00\n",
      " -1.66536994e+01  3.88420319e+00 -1.09223065e-02 -1.54076817e+00\n",
      "  2.93126716e-01 -1.34080588e-02 -9.05962921e-01  8.80978043e-03\n",
      " -4.57776731e-01]\n",
      "Mean Square Error:25.423096001022575\n",
      "cofficient: [-1.15791752e-01  4.71522626e-02  6.82582501e-03  3.21038693e+00\n",
      " -1.63576832e+01  3.88507202e+00 -1.11460239e-02 -1.53602292e+00\n",
      "  2.92392569e-01 -1.34271554e-02 -9.02961219e-01  8.82369465e-03\n",
      " -4.58252876e-01]\n",
      "Mean Square Error:25.484481383563832\n",
      "cofficient: [-1.14191538e-01  4.74478726e-02 -4.28228389e-03  2.99469488e+00\n",
      " -1.34263024e+01  3.89473335e+00 -1.33872007e-02 -1.48751294e+00\n",
      "  2.85627378e-01 -1.36705572e-02 -8.73410687e-01  8.96663130e-03\n",
      " -4.63101674e-01]\n",
      "Mean Square Error:26.45288885360415\n",
      "cofficient: [-0.10618872  0.04886351 -0.04536655  1.14953069 -0.          3.82353877\n",
      " -0.02089779 -1.23590613  0.26008876 -0.01517094 -0.74673362  0.00963864\n",
      " -0.49877104]\n"
     ]
    }
   ],
   "source": [
    "boston=datasets.load_boston()\n",
    "x_train, x_test, y_train, y_test = train_test_split(boston.data, boston.target, test_size=0.2, random_state=4)\n",
    "for i in [0.0001,0.001,0.01,0.1]:\n",
    "    model=linear_model.Lasso(alpha=i)\n",
    "    model.fit(x_train,y_train)\n",
    "    y_pred=model.predict(x_test)\n",
    "    print(\"Mean Square Error:{}\".format( mean_squared_error(y_test, y_pred)))\n",
    "    print(\"cofficient:\",model.coef_)"
   ]
  },
  {
   "cell_type": "code",
   "execution_count": 20,
   "metadata": {},
   "outputs": [
    {
     "name": "stdout",
     "output_type": "stream",
     "text": [
      "Mean Square Error:0.06696876514336814\n",
      "cofficient: [[-1.09099441e-01]\n",
      " [ 1.67405539e-02]\n",
      " [-2.18752640e-01]\n",
      " [ 4.66802414e-02]\n",
      " [ 3.20715887e-04]\n",
      " [ 1.24488582e-01]\n",
      " [-3.26190987e-01]\n",
      " [-1.91311349e-01]\n",
      " [ 3.72012699e-02]\n",
      " [ 7.57431365e-02]\n",
      " [-1.55977780e-01]\n",
      " [-2.85945475e-01]\n",
      " [-7.51811074e-04]]\n",
      "Mean Square Error:0.06696998422329731\n",
      "cofficient: [[-1.09095462e-01]\n",
      " [ 1.67408167e-02]\n",
      " [-2.18743350e-01]\n",
      " [ 4.66788162e-02]\n",
      " [ 3.20928037e-04]\n",
      " [ 1.24460606e-01]\n",
      " [-3.26173337e-01]\n",
      " [-1.91166888e-01]\n",
      " [ 3.71982421e-02]\n",
      " [ 7.57448103e-02]\n",
      " [-1.55961070e-01]\n",
      " [-2.85931998e-01]\n",
      " [-7.51827540e-04]]\n",
      "Mean Square Error:0.06698209755464761\n",
      "cofficient: [[-1.09055901e-01]\n",
      " [ 1.67435834e-02]\n",
      " [-2.18649079e-01]\n",
      " [ 4.66645637e-02]\n",
      " [ 3.23024885e-04]\n",
      " [ 1.24181625e-01]\n",
      " [-3.25997782e-01]\n",
      " [-1.89734429e-01]\n",
      " [ 3.71681807e-02]\n",
      " [ 7.57615981e-02]\n",
      " [-1.55792902e-01]\n",
      " [-2.85797766e-01]\n",
      " [-7.51992349e-04]]\n",
      "Mean Square Error:0.06709604906317539\n",
      "cofficient: [[-0.10868129]\n",
      " [ 0.0167836 ]\n",
      " [-0.21758328]\n",
      " [ 0.04652221]\n",
      " [ 0.00034174]\n",
      " [ 0.12146469]\n",
      " [-0.32432992]\n",
      " [-0.17652621]\n",
      " [ 0.03688698]\n",
      " [ 0.07593367]\n",
      " [-0.15402058]\n",
      " [-0.28450558]\n",
      " [-0.00075365]]\n"
     ]
    },
    {
     "data": {
      "image/png": "[encoded data removed]",
      "text/plain": [
       "<Figure size 432x288 with 4 Axes>"
      ]
     },
     "metadata": {
      "needs_background": "light"
     },
     "output_type": "display_data"
    }
   ],
   "source": [
    "plt.figure()\n",
    "wine=datasets.load_wine()\n",
    "x_train, x_test, y_train, y_test = train_test_split(wine.data, wine.target, test_size=0.2, random_state=4)\n",
    "for i,j in zip([0.0001,0.001,0.01,0.1],[1,2,3,4]):\n",
    "    model=linear_model.Ridge(alpha=i)\n",
    "    model.fit(x_train,y_train)\n",
    "    y_pred=model.predict(x_test)\n",
    "    print(\"Mean Square Error:{}\".format( mean_squared_error(y_test, y_pred)))\n",
    "    print(\"cofficient:\",np.reshape(model.coef_,(-1,1)))\n",
    "    plt.subplot(2,2,j)\n",
    "    plt.scatter(x_test,x_test)\n",
    "    plt.plot(x_test,y_pred)"
   ]
  },
  {
   "cell_type": "code",
   "execution_count": null,
   "metadata": {},
   "outputs": [],
   "source": []
  }
 ],
 "metadata": {
  "kernelspec": {
   "display_name": "Python 3",
   "language": "python",
   "name": "python3"
  },
  "language_info": {
   "codemirror_mode": {
    "name": "ipython",
    "version": 3
   },
   "file_extension": ".py",
   "mimetype": "text/x-python",
   "name": "python",
   "nbconvert_exporter": "python",
   "pygments_lexer": "ipython3",
   "version": "3.7.6"
  }
 },
 "nbformat": 4,
 "nbformat_minor": 2
}
