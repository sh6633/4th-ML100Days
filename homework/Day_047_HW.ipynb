{
 "cells": [
  {
   "cell_type": "markdown",
   "metadata": {},
   "source": [
    "## [作業重點]\n",
    "了解如何使用 Sklearn 中的 hyper-parameter search 找出最佳的超參數"
   ]
  },
  {
   "cell_type": "markdown",
   "metadata": {},
   "source": [
    "### 作業\n",
    "請使用不同的資料集，並使用 hyper-parameter search 的方式，看能不能找出最佳的超參數組合"
   ]
  },
  {
   "cell_type": "code",
   "execution_count": 23,
   "metadata": {},
   "outputs": [],
   "source": [
    "from sklearn import datasets,metrics\n",
    "from sklearn.model_selection import train_test_split,GridSearchCV\n",
    "import numpy as np\n",
    "from sklearn.ensemble import GradientBoostingClassifier"
   ]
  },
  {
   "cell_type": "code",
   "execution_count": 15,
   "metadata": {},
   "outputs": [
    {
     "data": {
      "text/plain": [
       "('Accuracy:', 0.9166666666666666)"
      ]
     },
     "execution_count": 15,
     "metadata": {},
     "output_type": "execute_result"
    }
   ],
   "source": [
    "wine=datasets.load_wine()\n",
    "trainx,testx,trainy,testy=train_test_split(wine.data,wine.target,test_size=0.2,random_state=2)\n",
    "model=GradientBoostingClassifier()\n",
    "model.fit(trainx,trainy)\n",
    "predict=model.predict(testx)\n",
    "(\"Accuracy:\",metrics.accuracy_score(testy,predict))"
   ]
  },
  {
   "cell_type": "code",
   "execution_count": 25,
   "metadata": {},
   "outputs": [
    {
     "name": "stdout",
     "output_type": "stream",
     "text": [
      "Fitting 5 folds for each of 9 candidates, totalling 45 fits\n"
     ]
    },
    {
     "name": "stderr",
     "output_type": "stream",
     "text": [
      "[Parallel(n_jobs=-1)]: Using backend LokyBackend with 4 concurrent workers.\n",
      "[Parallel(n_jobs=-1)]: Done  45 out of  45 | elapsed:    9.2s finished\n"
     ]
    }
   ],
   "source": [
    "n_estimators=[200,300,400]\n",
    "max_depth=[5,10,15]\n",
    "param_grid=dict(n_estimators=n_estimators,max_depth=max_depth)\n",
    "grid_search = GridSearchCV(model,param_grid, scoring=\"neg_mean_squared_error\",n_jobs=-1,verbose=1)\n",
    "grid_result = grid_search.fit(trainx, trainy)\n"
   ]
  },
  {
   "cell_type": "code",
   "execution_count": 31,
   "metadata": {},
   "outputs": [
    {
     "name": "stdout",
     "output_type": "stream",
     "text": [
      "Best Accuracy:-0.05665024630541872\n",
      "Best Parameters:{'max_depth': 10, 'n_estimators': 200}\n"
     ]
    }
   ],
   "source": [
    "print(\"Best Accuracy:{}\\nBest Parameters:{}\".format(grid_result.best_score_,grid_result.best_params_))"
   ]
  },
  {
   "cell_type": "code",
   "execution_count": 35,
   "metadata": {},
   "outputs": [
    {
     "name": "stdout",
     "output_type": "stream",
     "text": [
      "Accuracy: 0.9166666666666666\n"
     ]
    }
   ],
   "source": [
    "model_best=GradientBoostingClassifier(\n",
    "max_depth=grid_result.best_params_[\"max_depth\"],n_estimators=grid_result.best_params_[\"n_estimators\"])\n",
    "model_best.fit(trainx,trainy)\n",
    "prednew=model_best.predict(testx)\n",
    "print('Accuracy:',metrics.accuracy_score(testy,prednew))"
   ]
  },
  {
   "cell_type": "code",
   "execution_count": null,
   "metadata": {},
   "outputs": [],
   "source": []
  }
 ],
 "metadata": {
  "kernelspec": {
   "display_name": "Python 3",
   "language": "python",
   "name": "python3"
  },
  "language_info": {
   "codemirror_mode": {
    "name": "ipython",
    "version": 3
   },
   "file_extension": ".py",
   "mimetype": "text/x-python",
   "name": "python",
   "nbconvert_exporter": "python",
   "pygments_lexer": "ipython3",
   "version": "3.6.10"
  }
 },
 "nbformat": 4,
 "nbformat_minor": 2
}
