{
 "cells": [
  {
   "cell_type": "markdown",
   "metadata": {},
   "source": [
    "## [作業重點]\n",
    "目前你應該已經要很清楚資料集中，資料的型態是什麼樣子囉！包含特徵 (features) 與標籤 (labels)。因此要記得未來不管什麼專案，必須要把資料清理成相同的格式，才能送進模型訓練。\n",
    "今天的作業開始踏入決策樹這個非常重要的模型，請務必確保你理解模型中每個超參數的意思，並試著調整看看，對最終預測結果的影響為何"
   ]
  },
  {
   "cell_type": "markdown",
   "metadata": {},
   "source": [
    "## 作業\n",
    "\n",
    "1. 試著調整 DecisionTreeClassifier(...) 中的參數，並觀察是否會改變結果？\n",
    "2. 改用其他資料集 (boston, wine)，並與回歸模型的結果進行比較"
   ]
  },
  {
   "cell_type": "code",
   "execution_count": 6,
   "metadata": {
    "scrolled": false
   },
   "outputs": [],
   "source": [
    "from sklearn import datasets,metrics\n",
    "from sklearn.tree import DecisionTreeClassifier,DecisionTreeRegressor\n",
    "from sklearn.model_selection import train_test_split\n",
    "%matplotlib inline\n"
   ]
  },
  {
   "cell_type": "code",
   "execution_count": 7,
   "metadata": {},
   "outputs": [
    {
     "name": "stdout",
     "output_type": "stream",
     "text": [
      "MSE: 23.7621568627451\n",
      "Feature importance:  [5.45152062e-02 1.04976296e-03 6.20069547e-03 2.51524120e-06\n",
      " 3.24410719e-02 5.80466176e-01 1.15778976e-02 6.24735969e-02\n",
      " 4.13885454e-04 1.82311787e-02 1.65519826e-02 6.43114744e-03\n",
      " 2.09644883e-01]\n"
     ]
    }
   ],
   "source": [
    "boston=datasets.load_boston()\n",
    "train_x,test_x,train_y,test_y=train_test_split(boston.data,boston.target,test_size=0.2,random_state=4)\n",
    "model=DecisionTreeRegressor()\n",
    "model.fit(train_x,train_y)\n",
    "pred_y=model.predict(test_x)\n",
    "print(\"MSE:\",metrics.mean_squared_error(test_y,pred_y))\n",
    "print(\"Feature importance: \", model.feature_importances_)\n",
    "\n",
    "\n",
    "\n"
   ]
  },
  {
   "cell_type": "code",
   "execution_count": 8,
   "metadata": {},
   "outputs": [
    {
     "name": "stdout",
     "output_type": "stream",
     "text": [
      "Acuuracy:  0.9166666666666666\n",
      "Feature importance:  [0.00502154 0.01629437 0.         0.         0.04181197 0.01738066\n",
      " 0.29892664 0.         0.         0.05843498 0.04109647 0.07902858\n",
      " 0.4420048 ]\n"
     ]
    }
   ],
   "source": [
    "wine=datasets.load_wine()\n",
    "train_x,test_x,train_y,test_y=train_test_split(wine.data,wine.target,test_size=0.2)\n",
    "model1=model=DecisionTreeClassifier(criterion=\"gini\")\n",
    "model1.fit(train_x,train_y)\n",
    "pred_y=model1.predict(test_x)\n",
    "acc = metrics.accuracy_score(test_y, pred_y)\n",
    "print(\"Acuuracy: \", acc)\n",
    "print(\"Feature importance: \", model.feature_importances_)"
   ]
  },
  {
   "cell_type": "code",
   "execution_count": null,
   "metadata": {},
   "outputs": [],
   "source": []
  }
 ],
 "metadata": {
  "kernelspec": {
   "display_name": "Python 3",
   "language": "python",
   "name": "python3"
  },
  "language_info": {
   "codemirror_mode": {
    "name": "ipython",
    "version": 3
   },
   "file_extension": ".py",
   "mimetype": "text/x-python",
   "name": "python",
   "nbconvert_exporter": "python",
   "pygments_lexer": "ipython3",
   "version": "3.6.10"
  }
 },
 "nbformat": 4,
 "nbformat_minor": 2
}
